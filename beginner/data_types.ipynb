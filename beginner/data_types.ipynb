{
 "cells": [
  {
   "cell_type": "markdown",
   "id": "e8dfbabb",
   "metadata": {},
   "source": [
    "# Data Types"
   ]
  },
  {
   "cell_type": "code",
   "execution_count": 1,
   "id": "d919a40c",
   "metadata": {},
   "outputs": [
    {
     "data": {
      "text/plain": [
       "False"
      ]
     },
     "execution_count": 1,
     "metadata": {},
     "output_type": "execute_result"
    }
   ],
   "source": [
    "#Data Types\n",
    "\n",
    "#String\n",
    "\"Hello\"\n",
    "\n",
    "#Integer note that Python ignores _\n",
    "123_356\n",
    "\n",
    "#Float\n",
    "3.14\n",
    "\n",
    "#Boolean\n",
    "True\n",
    "False"
   ]
  },
  {
   "cell_type": "code",
   "execution_count": 3,
   "id": "a04d5e9b",
   "metadata": {},
   "outputs": [
    {
     "data": {
      "text/plain": [
       "int"
      ]
     },
     "execution_count": 3,
     "metadata": {},
     "output_type": "execute_result"
    }
   ],
   "source": [
    "a = 5\n",
    "type(a)"
   ]
  },
  {
   "cell_type": "markdown",
   "id": "a9cd8bd8",
   "metadata": {},
   "source": [
    "# Type Conversions"
   ]
  },
  {
   "cell_type": "code",
   "execution_count": null,
   "id": "327bee7c",
   "metadata": {},
   "outputs": [
    {
     "name": "stdout",
     "output_type": "stream",
     "text": [
      "<class 'int'>\n",
      "Yoma 5\n",
      "193.0\n",
      "123\n"
     ]
    }
   ],
   "source": [
    "num_char = len(\"hello\")\n",
    "\n",
    "print(type(num_char))#int\n",
    "\n",
    "new_num_char = str(num_char)\n",
    "\n",
    "print(\"Yoma \" + new_num_char)\n",
    "\n",
    "a = \"123\"\n",
    "print(str(70+float(a)))#193\n",
    "\n",
    "print(int(a))"
   ]
  },
  {
   "cell_type": "markdown",
   "id": "d59bac1c",
   "metadata": {},
   "source": [
    "# Working With Numbers\n",
    "\n",
    "## Raise to power "
   ]
  },
  {
   "cell_type": "code",
   "execution_count": 63,
   "id": "07f3aace",
   "metadata": {},
   "outputs": [
    {
     "name": "stdout",
     "output_type": "stream",
     "text": [
      "4\n"
     ]
    }
   ],
   "source": [
    "a = 2 ** 2 #4\n",
    "\n",
    "print(a)"
   ]
  },
  {
   "cell_type": "code",
   "execution_count": 64,
   "id": "aab5b9ef",
   "metadata": {},
   "outputs": [],
   "source": [
    "## Square Root"
   ]
  },
  {
   "cell_type": "code",
   "execution_count": 65,
   "id": "74e1047a",
   "metadata": {},
   "outputs": [
    {
     "name": "stdout",
     "output_type": "stream",
     "text": [
      "2.0\n"
     ]
    }
   ],
   "source": [
    "import math \n",
    "\n",
    "a = math.sqrt(4) #2\n",
    "\n",
    "print(a)"
   ]
  },
  {
   "cell_type": "markdown",
   "id": "bc2e6f68",
   "metadata": {},
   "source": [
    "## Round a number"
   ]
  },
  {
   "cell_type": "code",
   "execution_count": 66,
   "id": "837b2538",
   "metadata": {},
   "outputs": [
    {
     "name": "stdout",
     "output_type": "stream",
     "text": [
      "3\n",
      "2.67\n"
     ]
    }
   ],
   "source": [
    "print(round(2.666))#3\n",
    "\n",
    "print(round(2.666, 2))#2.67"
   ]
  },
  {
   "cell_type": "code",
   "execution_count": 67,
   "id": "120e4e29",
   "metadata": {},
   "outputs": [],
   "source": [
    "## Flaw Division (when you just want division result to be integer)"
   ]
  },
  {
   "cell_type": "code",
   "execution_count": 68,
   "id": "6a54b2cb",
   "metadata": {},
   "outputs": [
    {
     "name": "stdout",
     "output_type": "stream",
     "text": [
      "2.6666666666666665\n",
      "2\n"
     ]
    }
   ],
   "source": [
    "print(8 / 3) # normal 2.6666666666666665 float\n",
    "\n",
    "print(8 // 3) # flaw division 2 int"
   ]
  },
  {
   "cell_type": "markdown",
   "id": "34008c34",
   "metadata": {},
   "source": [
    "## Shorthands"
   ]
  },
  {
   "cell_type": "code",
   "execution_count": 72,
   "id": "63b77c09",
   "metadata": {},
   "outputs": [
    {
     "name": "stdout",
     "output_type": "stream",
     "text": [
      "1\n",
      "0\n",
      "2.5\n",
      "12.5\n"
     ]
    }
   ],
   "source": [
    "a = 1\n",
    "b = 2\n",
    "\n",
    "c=0\n",
    "\n",
    "c+=1\n",
    "print(c) #1\n",
    "c-=1\n",
    "print(c) #0\n",
    "c = 5\n",
    "c/=2\n",
    "print(c) #2.5\n",
    "c*=5\n",
    "print(c) #12.5"
   ]
  },
  {
   "cell_type": "code",
   "execution_count": 73,
   "id": "74cd5db0",
   "metadata": {},
   "outputs": [
    {
     "name": "stdout",
     "output_type": "stream",
     "text": [
      "your score is 0, your height is 1.8, you are winning is True\n"
     ]
    }
   ],
   "source": [
    "# String Tricks\n",
    "\n",
    "## f-String\n",
    "score = 0\n",
    "height = 1.8\n",
    "isWinning = True\n",
    "\n",
    "#f-String\n",
    "print(f\"your score is {score}, your height is {height}, you are winning is {isWinning}\")\n",
    "\n",
    "## You can not concatenate string and integer\n",
    "# print(\"your score is \" + score) # This will raise an error"
   ]
  },
  {
   "cell_type": "code",
   "execution_count": 76,
   "id": "a30fa7d7",
   "metadata": {},
   "outputs": [
    {
     "name": "stdout",
     "output_type": "stream",
     "text": [
      "ANGELA\n"
     ]
    },
    {
     "data": {
      "text/plain": [
       "2"
      ]
     },
     "execution_count": 76,
     "metadata": {},
     "output_type": "execute_result"
    }
   ],
   "source": [
    "## Count how many times something is in string\n",
    "\n",
    "name = \"Angela\"\n",
    "print(name.upper()) # ANGELA\n",
    "\n",
    "name = \"Angela\"\n",
    "name.lower().count(\"a\") # 2\n",
    "\n",
    "name = \"Angela\"\n",
    "name.lower().count(\"a\") # 2"
   ]
  },
  {
   "cell_type": "code",
   "execution_count": 79,
   "id": "01996d4f",
   "metadata": {},
   "outputs": [
    {
     "name": "stdout",
     "output_type": "stream",
     "text": [
      "['hello', ' Engineering and Medical', ' are two different disciplines']\n"
     ]
    }
   ],
   "source": [
    "## Split\n",
    "input_text = \"hello, Engineering and Medical, are two different disciplines\"\n",
    "\n",
    "result = input_text.split(\",\")\n",
    "\n",
    "print(result)"
   ]
  },
  {
   "cell_type": "code",
   "execution_count": 3,
   "id": "cb2d7619",
   "metadata": {},
   "outputs": [
    {
     "name": "stdout",
     "output_type": "stream",
     "text": [
      "billWithTips is 57\n",
      "Each person needs to pay: 11.40$\n"
     ]
    }
   ],
   "source": [
    "bill = 50\n",
    "numberOfGuys = 5\n",
    "whatIsTipPercentYouWantToPay= 15\n",
    "\n",
    "billWithTips = round((1 + int(whatIsTipPercentYouWantToPay) / 100) * float(bill))\n",
    "\n",
    "print(f\"billWithTips is {billWithTips}\")\n",
    "\n",
    "eachPersonNeedsToPay = round(billWithTips / int(numberOfGuys), 2)\n",
    "\n",
    "eachPersonNeedsToPay = \"{:.2f}\".format(eachPersonNeedsToPay)\n",
    "# It will format the number to 2 decimal places, .f means float, and .2 means 2 decimal places\n",
    "\n",
    "print(f\"Each person needs to pay: {eachPersonNeedsToPay}$\")"
   ]
  },
  {
   "cell_type": "code",
   "execution_count": 4,
   "id": "217dd565",
   "metadata": {},
   "outputs": [
    {
     "name": "stdout",
     "output_type": "stream",
     "text": [
      "7\n"
     ]
    }
   ],
   "source": [
    "## Index of character\n",
    "\n",
    "text = 'Python is fun'\n",
    "\n",
    "# find the index of is\n",
    "result = text.index('is')\n",
    "print(result)\n",
    "\n",
    "# Output: 7"
   ]
  },
  {
   "cell_type": "code",
   "execution_count": 5,
   "id": "89c01d61",
   "metadata": {},
   "outputs": [
    {
     "name": "stdout",
     "output_type": "stream",
     "text": [
      "This is an odd number.\n"
     ]
    }
   ],
   "source": [
    "# Conditions\n",
    "\n",
    "## If-Else\n",
    "number = int(5)\n",
    "\n",
    "if number % 2 == 0:\n",
    "    print(\"This is an even number.\")\n",
    "elif number == 3:\n",
    "\t  print(\"input is 3 go away.\")\n",
    "else:\n",
    "    print(\"This is an odd number.\")"
   ]
  },
  {
   "cell_type": "code",
   "execution_count": 7,
   "id": "9adabd6e",
   "metadata": {},
   "outputs": [
    {
     "name": "stdout",
     "output_type": "stream",
     "text": [
      "Your BMI is 26, you are slightly overweight\n",
      "Leap Year\n"
     ]
    }
   ],
   "source": [
    "# Logical Operators\n",
    "\n",
    "\n",
    "height = float(1.8)\n",
    "weight = float(85.1)\n",
    "\n",
    "#Write your code below this line 👇\n",
    "bmi = weight / height ** 2\n",
    "\n",
    "if bmi < 18.5:\n",
    "    print (f\"Your BMI is {round(bmi)}, you are underweight.\")\n",
    "elif bmi >=18.5 and bmi < 25:\n",
    "    print (f\"Your BMI is {round(bmi)}, you have a normal weight\")\n",
    "elif bmi >=25 and bmi < 30:\n",
    "    print (f\"Your BMI is {round(bmi)}, you are slightly overweight\")\n",
    "elif bmi >=30 and bmi < 35:\n",
    "    print (f\"Your BMI is {round(bmi)}, you are obese\")\n",
    "elif bmi >=35:\n",
    "    print (f\"Your BMI is {round(bmi)}, you are clinically obese\")\n",
    "\n",
    "\n",
    "year = int(2000)\n",
    "\n",
    "isLeapYear = False\n",
    "\n",
    "if year % 400 == 0:\n",
    "    isLeapYear = True\n",
    "    print(\"Leap Year\")\n",
    "elif year % 4 == 0:\n",
    "    if not(year % 100 == 0):\n",
    "        isLeapYear = True\n",
    "        print(\"Leap Year\")\n",
    "    else:\n",
    "        print(\"Not leap year.\")\n",
    "else:\n",
    "    print(\"Not leap year.\")\n"
   ]
  },
  {
   "cell_type": "code",
   "execution_count": 8,
   "id": "afcda5ef",
   "metadata": {},
   "outputs": [
    {
     "name": "stdout",
     "output_type": "stream",
     "text": [
      "Welcome to Treasure Island.\n",
      "Your mission is to find the treasure.\n",
      "Fall Into a hole Game Over\n"
     ]
    }
   ],
   "source": [
    "## Or Statement\n",
    "\n",
    "print(\"Welcome to Treasure Island.\")\n",
    "print(\"Your mission is to find the treasure.\") \n",
    "\n",
    "#https://www.draw.io/?lightbox=1&highlight=0000ff&edit=_blank&layers=1&nav=1&title=Treasure%20Island%20Conditional.drawio#Uhttps%3A%2F%2Fdrive.google.com%2Fuc%3Fid%3D1oDe4ehjWZipYRsVfeAx2HyB7LCQ8_Fvi%26export%3Ddownload\n",
    "\n",
    "#Write your code below this line 👇\n",
    "\n",
    "step1 = input(\"Left or Right?\")\n",
    "step1 = step1.lower()\n",
    "\n",
    "step2 = \"\"\n",
    "if not(step1 == \"left\"):\n",
    "  print(\"Fall Into a hole Game Over\")\n",
    "else:\n",
    "  step2 = input(\"swim of wait?\")\n",
    "  step2 = step2.lower()\n",
    "\n",
    "  if not(step2 == \"wait\"):\n",
    "    print(\"Attacked by trout. Game Over\")\n",
    "  else:\n",
    "    step3 = input(\"You are faced with 3 doors Red, Yellow and Blue one, which to choose?\")\n",
    "    step3 = step3.lower()\n",
    "\n",
    "    if not(step3 == \"blue\" or step3 == \"yellow\" or step3 == \"red\"):\n",
    "      print(\"Game Over!\")\n",
    "    else:\n",
    "      if step3 == \"blue\":\n",
    "        print(\"Eaten by beasts\\nGame Over!\")\n",
    "      if step3 == \"red\":\n",
    "        print(\"Burned by fire /n Game Over!\")\n",
    "      if step3 == \"yellow\":\n",
    "        print(\"You Win!\")"
   ]
  },
  {
   "cell_type": "code",
   "execution_count": 9,
   "id": "45d73c22",
   "metadata": {},
   "outputs": [
    {
     "name": "stdout",
     "output_type": "stream",
     "text": [
      "Welcome to Python Pizza Deliveries!\n",
      "Your final bill is: $17.\n"
     ]
    }
   ],
   "source": [
    "# Ternary\n",
    "# 🚨 Don't change the code below 👇\n",
    "print(\"Welcome to Python Pizza Deliveries!\")\n",
    "size = input(\"What size pizza do you want? S, M, or L \")\n",
    "add_pepperoni = input(\"Do you want pepperoni? Y or N \")\n",
    "extra_cheese = input(\"Do you want extra cheese? Y or N \")\n",
    "# 🚨 Don't change the code above 👆\n",
    "\n",
    "#Ternary 👇\n",
    "add_pepperoni = True if add_pepperoni == \"Y\" else False\n",
    "extra_cheese = True if extra_cheese == \"Y\" else False\n",
    "\n",
    "SmallPizzaPrice = 15\n",
    "\n",
    "MediumPizzaPrice = 20\n",
    "\n",
    "LargePizzaPrice = 25\n",
    "\n",
    "PepperoniForSmallPizza = 2\n",
    "\n",
    "PepperoniForMediumOrLargePizza = 3\n",
    "\n",
    "extraCheesePrice = 1\n",
    "\n",
    "price = 0\n",
    "if size == \"S\":\n",
    "    price += SmallPizzaPrice\n",
    "\n",
    "    if add_pepperoni:\n",
    "        price += PepperoniForSmallPizza\n",
    "elif size == \"M\":\n",
    "    price += MediumPizzaPrice\n",
    "\n",
    "    if add_pepperoni:\n",
    "        price += PepperoniForMediumOrLargePizza\n",
    "else:\n",
    "    price += LargePizzaPrice\n",
    "\n",
    "    if add_pepperoni:\n",
    "        price += PepperoniForMediumOrLargePizza\n",
    "\n",
    "if extra_cheese:\n",
    "    price += extraCheesePrice\n",
    "\n",
    "print(f\"Your final bill is: ${price}.\")\n"
   ]
  },
  {
   "cell_type": "code",
   "execution_count": null,
   "id": "2305d555",
   "metadata": {},
   "outputs": [
    {
     "name": "stdout",
     "output_type": "stream",
     "text": [
      "10\n",
      "0.14444732751525147\n"
     ]
    }
   ],
   "source": [
    "# Random\n",
    "\n",
    "import random\n",
    "\n",
    "random_integer=random.randint(1, 10)\n",
    "\n",
    "print(random_integer)\n",
    "\n",
    "random_float = random.random()\n",
    "\n",
    "print(random_float)"
   ]
  },
  {
   "cell_type": "markdown",
   "id": "baf0f8c3",
   "metadata": {},
   "source": [
    "# Modules\n",
    "\n",
    "my_module.py\n",
    "```\n",
    "pi = 3.14\n",
    "```\n",
    "\n",
    "main.py\n",
    "```\n",
    "import random\n",
    "import my_module\n",
    "\n",
    "random_integer=random.randint(1, 10)\n",
    "\n",
    "print(random_integer)\n",
    "print(my_module.pi)\n",
    "```\n",
    "\n",
    "## module alias\n",
    "```\n",
    "import mymodule as mx\n",
    "\n",
    "a = mx.person1[\"age\"]\n",
    "print(a)\n",
    "```\n",
    "\n",
    "```\n",
    "from mymodule import person1\n",
    "\n",
    "print (person1[\"age\"])\n",
    "```"
   ]
  },
  {
   "cell_type": "code",
   "execution_count": 12,
   "id": "1634ee4c",
   "metadata": {},
   "outputs": [
    {
     "name": "stdout",
     "output_type": "stream",
     "text": [
      "Pensilvania\n",
      "['Delaware', 'Lviv']\n",
      "['Delaware', 'Lviv', 'Alaska']\n",
      "['Delaware', 'Lviv', 'Alaska', 'Texas', 'New York']\n",
      "['Bob', 'Charlie', 'Bob', 'Dave']\n"
     ]
    }
   ],
   "source": [
    "# Lists\n",
    "us_states = [\"Delaware\", \"Pensilvania\"]\n",
    "\n",
    "print(us_states[1])#Pensilvania\n",
    "\n",
    "us_states[1] = \"Lviv\"\n",
    "\n",
    "print(us_states)\n",
    "\n",
    "\n",
    "us_states.append(\"Alaska\")\n",
    "print(us_states)\n",
    "\n",
    "us_states.extend([\"Texas\", \"New York\"])\n",
    "print(us_states)\n",
    "\n",
    "l = ['Alice', 'Bob', 'Charlie', 'Bob', 'Dave']\n",
    "\n",
    "l.remove('Alice')\n",
    "print(l)\n",
    "# ['Bob', 'Charlie', 'Bob', 'Dave']"
   ]
  },
  {
   "cell_type": "code",
   "execution_count": 13,
   "id": "d60f5b7e",
   "metadata": {},
   "outputs": [
    {
     "name": "stdout",
     "output_type": "stream",
     "text": [
      "['Dave', 'Bob', 'Charlie', 'Bob']\n",
      "['Dave', 'Bob', 'Charlie', 'Bob', 'Alice']\n"
     ]
    }
   ],
   "source": [
    "# Reverse List\n",
    "l.reverse()\n",
    "print(l)\n",
    "# ['Dave', 'Bob', 'Charlie', 'Bob']\n",
    "\n",
    "### ::-1\n",
    "l = ['Alice', 'Bob', 'Charlie', 'Bob', 'Dave']\n",
    "reversed_list = l[::-1]\n",
    "print(reversed_list)\n",
    "# ['Dave', 'Bob', 'Charlie', 'Bob', 'Alice']\n"
   ]
  },
  {
   "cell_type": "code",
   "execution_count": 21,
   "id": "04bd8312",
   "metadata": {},
   "outputs": [
    {
     "name": "stdout",
     "output_type": "stream",
     "text": [
      "['Delaware', 'Pensilvania']\n"
     ]
    }
   ],
   "source": [
    "## Shuffle List Order\n",
    "import random\n",
    "us_states = [\"Delaware\", \"Pensilvania\"]\n",
    "random.shuffle(us_states)\n",
    "\n",
    "print(us_states)"
   ]
  },
  {
   "cell_type": "code",
   "execution_count": null,
   "id": "5795218f",
   "metadata": {},
   "outputs": [
    {
     "name": "stdout",
     "output_type": "stream",
     "text": [
      "Ford\n",
      "brand Ford\n",
      "electric False\n",
      "year 1964\n",
      "colors ['red', 'white', 'blue']\n",
      "{'brand': 'Ford', 'electric': False, 'year': 1964, 'colors': ['red', 'white', 'blue'], 'newKey': 5}\n"
     ]
    }
   ],
   "source": [
    "# Dictionaries (like objects in js)\n",
    "thisdict = {\n",
    "  \"brand\": \"Ford\",\n",
    "  \"electric\": False,\n",
    "  \"year\": 1964,\n",
    "  \"colors\": [\"red\", \"white\", \"blue\"]\n",
    "}\n",
    "\n",
    "print(thisdict[\"brand\"])\n",
    "\n",
    "for key, value in thisdict.items():\n",
    "  print(key, value)\n",
    "\n",
    "thisdict[\"newKey\"] = 5\n",
    "print(thisdict)"
   ]
  },
  {
   "cell_type": "code",
   "execution_count": 17,
   "id": "36965557",
   "metadata": {},
   "outputs": [
    {
     "name": "stdout",
     "output_type": "stream",
     "text": [
      "3\n",
      "[1, 3, 8]\n"
     ]
    }
   ],
   "source": [
    "# Tuple\n",
    "\n",
    "my_tuple = (1, 3, 8)\n",
    "print(my_tuple[1])\n",
    "\n",
    "a_list = list(my_tuple)\n",
    "print(a_list)\n",
    "\n",
    "## Same as list but it’s a Immutable (constant), it’s faster than list\n",
    "\n",
    "## can also be converted to a list if needed"
   ]
  },
  {
   "cell_type": "code",
   "execution_count": 23,
   "id": "0a6ad92a",
   "metadata": {},
   "outputs": [
    {
     "name": "stdout",
     "output_type": "stream",
     "text": [
      "10,20,30,40\n",
      "['hello', ' Engineering and Medical', ' are two different disciplines']\n"
     ]
    }
   ],
   "source": [
    "# Join\n",
    "inp_lst=['10','20','30','40']\n",
    "sep=','\n",
    "res=sep.join(inp_lst)\n",
    "print(res)\n",
    "\n",
    "# Split\n",
    "input_text = \"hello, Engineering and Medical, are two different disciplines\"\n",
    "result = input_text.split(\",\")\n",
    "print(result)"
   ]
  },
  {
   "cell_type": "code",
   "execution_count": 24,
   "id": "a6fd5558",
   "metadata": {},
   "outputs": [
    {
     "name": "stdout",
     "output_type": "stream",
     "text": [
      "yes\n"
     ]
    }
   ],
   "source": [
    "# In (check if item is in array)\n",
    "fruits = [\"apple\", \"banana\", \"cherry\"]\n",
    "\n",
    "if \"banana\" in fruits:\n",
    "  print(\"yes\")"
   ]
  },
  {
   "cell_type": "code",
   "execution_count": 29,
   "id": "db63e893",
   "metadata": {},
   "outputs": [
    {
     "name": "stdout",
     "output_type": "stream",
     "text": [
      "Apple\n",
      "Peach\n",
      "Pear\n",
      "1\n",
      "3\n",
      "5\n",
      "7\n",
      "9\n"
     ]
    }
   ],
   "source": [
    "## Loops\n",
    "\n",
    "## For\n",
    "fruits = [\"Apple\", \"Peach\", \"Pear\"]\n",
    "\n",
    "for fruit in fruits:\n",
    "  print(fruit)\n",
    "\n",
    "for number in range(1, 10, 2):\n",
    "    print(number)"
   ]
  },
  {
   "cell_type": "code",
   "execution_count": 35,
   "id": "5c08f15d",
   "metadata": {},
   "outputs": [
    {
     "name": "stdout",
     "output_type": "stream",
     "text": [
      "['2', '5'] 2\n",
      "4\n"
     ]
    }
   ],
   "source": [
    "### Example\n",
    "\n",
    "student_heights = input(\"Input a list of student heights \").split()\n",
    "print(student_heights, len(student_heights))\n",
    "for n in range(0, len(student_heights)): ## range value is always value -1 \n",
    "  student_heights[n] = int(student_heights[n])\n",
    "\n",
    "\n",
    "allHeightsSum = 0\n",
    "numberOfStudents = 0\n",
    "for studentHeight in student_heights:\n",
    "    allHeightsSum += studentHeight\n",
    "    numberOfStudents+= 1\n",
    "\n",
    "averageHeight = round(allHeightsSum / numberOfStudents)\n",
    "\n",
    "print(averageHeight)"
   ]
  },
  {
   "cell_type": "markdown",
   "id": "d481ee1b",
   "metadata": {},
   "source": [
    "# Range Params\n",
    "| Parameter | Description | Python Example |\n",
    "|-----------|-------------|----------------|\n",
    "| start | Optional. An integer number specifying at which position to start. Default is 0 | `for i in range(2, 10):` starts at 2 |\n",
    "| stop | Required. An integer number specifying at which position to stop (not included). | `for i in range(5):` stops before 5 (0,1,2,3,4) |\n",
    "| step | Optional. An integer number specifying the incrementation. Default is 1 | `for i in range(0, 10, 2):` counts by 2s (0,2,4,6,8) |"
   ]
  },
  {
   "cell_type": "markdown",
   "id": "741d4eb4",
   "metadata": {},
   "source": []
  },
  {
   "cell_type": "code",
   "execution_count": 37,
   "id": "d8108ebb",
   "metadata": {},
   "outputs": [
    {
     "name": "stdout",
     "output_type": "stream",
     "text": [
      "0\n",
      "1\n",
      "2\n",
      "3\n",
      "4\n",
      "2\n",
      "3\n",
      "4\n",
      "5\n",
      "6\n",
      "7\n",
      "1\n",
      "3\n",
      "5\n",
      "7\n",
      "9\n",
      "10\n",
      "9\n",
      "8\n",
      "7\n",
      "6\n",
      "5\n",
      "4\n",
      "3\n",
      "2\n",
      "1\n",
      "20\n",
      "18\n",
      "16\n",
      "14\n",
      "12\n"
     ]
    }
   ],
   "source": [
    "# Basic range - just stop parameter\n",
    "for i in range(5):           # 0, 1, 2, 3, 4\n",
    "\tprint(i)\n",
    "\n",
    "# Start and stop\n",
    "for i in range(2, 8):        # 2, 3, 4, 5, 6, 7\n",
    "\tprint(i)\n",
    "\n",
    "# Start, stop, and step\n",
    "for i in range(1, 10, 2):    # 1, 3, 5, 7, 9\n",
    "\tprint(i)\n",
    "\n",
    "# Negative step (counting backwards)\n",
    "for i in range(10, 0, -1):   # 10, 9, 8, 7, 6, 5, 4, 3, 2, 1\n",
    "\tprint(i)\n",
    "\n",
    "# Step of -2\n",
    "for i in range(20, 10, -2):  # 20, 18, 16, 14, 12\n",
    "\tprint(i)"
   ]
  },
  {
   "cell_type": "code",
   "execution_count": 38,
   "id": "3de005e1",
   "metadata": {},
   "outputs": [
    {
     "name": "stdout",
     "output_type": "stream",
     "text": [
      "1\n",
      "2\n",
      "3\n",
      "4\n",
      "5\n"
     ]
    }
   ],
   "source": [
    "# While\n",
    "i = 1\n",
    "while i < 6:\n",
    "  print(i)\n",
    "  i += 1"
   ]
  },
  {
   "cell_type": "code",
   "execution_count": 41,
   "id": "7ff318ef",
   "metadata": {},
   "outputs": [
    {
     "name": "stdout",
     "output_type": "stream",
     "text": [
      "2\n",
      "1\n",
      "3\n",
      "2\n"
     ]
    }
   ],
   "source": [
    "# Math Helpers\n",
    "import math\n",
    "max(1,2)\n",
    "print(max(1,2)) # 2\n",
    "\n",
    "min(1,2)\n",
    "print(min(1,2)) # 1\n",
    "\n",
    "sum([1, 2])\n",
    "print(sum([1, 2])) # 3\n",
    "\n",
    "#round number to upper \n",
    "math.ceil(1.6)\n",
    "print(math.ceil(1.6)) # 2"
   ]
  },
  {
   "cell_type": "code",
   "execution_count": 42,
   "id": "ef0e488a",
   "metadata": {},
   "outputs": [
    {
     "name": "stdout",
     "output_type": "stream",
     "text": [
      "Mark Refsnes\n"
     ]
    }
   ],
   "source": [
    "# Functions\n",
    "\n",
    "def my_function(fname):\n",
    "  print(fname + \" Refsnes\")\n",
    "\n",
    "my_function(\"Mark\")"
   ]
  },
  {
   "cell_type": "code",
   "execution_count": 45,
   "id": "6864caa3",
   "metadata": {},
   "outputs": [
    {
     "name": "stdout",
     "output_type": "stream",
     "text": [
      "25\n"
     ]
    }
   ],
   "source": [
    "# DocString\n",
    "def square(n):\n",
    "    '''Takes in a number n, returns the square of n'''\n",
    "    return n**2\n",
    "\n",
    "square_result = square(5)\n",
    "print(square_result)  # 25"
   ]
  },
  {
   "cell_type": "code",
   "execution_count": 46,
   "id": "5ad9663c",
   "metadata": {},
   "outputs": [
    {
     "name": "stdout",
     "output_type": "stream",
     "text": [
      "The youngest child is Linus\n"
     ]
    },
    {
     "data": {
      "text/plain": [
       "5"
      ]
     },
     "execution_count": 46,
     "metadata": {},
     "output_type": "execute_result"
    }
   ],
   "source": [
    "# Keyword Parameters\n",
    "def my_function(child3, child2, child1):\n",
    "  print(\"The youngest child is \" + child3)\n",
    "  return 5\n",
    "\n",
    "my_function(child1 = \"Emil\", child2 = \"Tobias\", child3 = \"Linus\")"
   ]
  },
  {
   "cell_type": "code",
   "execution_count": 49,
   "id": "09e0598e",
   "metadata": {},
   "outputs": [
    {
     "name": "stdout",
     "output_type": "stream",
     "text": [
      "Calculating factorial for 1, current result: 1\n",
      "Calculating factorial for 2, current result: 2\n",
      "Calculating factorial for 3, current result: 6\n",
      "The factorial of 3 is 6\n"
     ]
    }
   ],
   "source": [
    "# Recursive Function\n",
    "def factorial(x):\n",
    "    \"\"\"This is a recursive function\n",
    "    to find the factorial of an integer\"\"\"\n",
    "\n",
    "    if x == 1:\n",
    "        result = 1\n",
    "        print(f\"Calculating factorial for {x}, current result: {result}\")\n",
    "        return result\n",
    "    else:\n",
    "        result = x * factorial(x-1)\n",
    "        print(f\"Calculating factorial for {x}, current result: {result}\")\n",
    "        return result\n",
    "\n",
    "\n",
    "num = 3\n",
    "print(\"The factorial of\", num, \"is\", factorial(num))"
   ]
  },
  {
   "cell_type": "code",
   "execution_count": 50,
   "id": "9b45279a",
   "metadata": {},
   "outputs": [
    {
     "name": "stdout",
     "output_type": "stream",
     "text": [
      "number is 2\n",
      "number is 1\n"
     ]
    }
   ],
   "source": [
    "# Scope\n",
    "\n",
    "enemies = 1\n",
    "\n",
    "def inc_enemies():\n",
    "  enemies = 2\n",
    "  print(f\"number is {enemies}\")\n",
    "\n",
    "inc_enemies()\n",
    "print(f\"number is {enemies}\")\n",
    "\n",
    "#Global scope variable is not changed"
   ]
  },
  {
   "cell_type": "code",
   "execution_count": 52,
   "id": "2bd5341d",
   "metadata": {},
   "outputs": [
    {
     "name": "stdout",
     "output_type": "stream",
     "text": [
      "number is 2\n",
      "number is 2\n",
      "number is 2\n",
      "number is 2\n"
     ]
    }
   ],
   "source": [
    "## How To Modify Global Scope Var in child function?(bad practice)\n",
    "enemies = 1\n",
    "\n",
    "def inc_enemies():\n",
    "  global enemies\n",
    "  enemies = 2\n",
    "  print(f\"number is {enemies}\")\n",
    "\n",
    "inc_enemies()\n",
    "print(f\"number is {enemies}\")\n",
    "\n",
    "## What is best practice then?\n",
    "enemies = 1\n",
    "\n",
    "def inc_enemies():\n",
    "  enemies = 2\n",
    "  print(f\"number is {enemies}\")\n",
    "  return enemies\n",
    "  \n",
    "\n",
    "enemies = inc_enemies()\n",
    "print(f\"number is {enemies}\")"
   ]
  },
  {
   "cell_type": "code",
   "execution_count": null,
   "id": "ac980fe0",
   "metadata": {},
   "outputs": [],
   "source": [
    "# Constants Naming Convention\n",
    "PI = 3.14\n",
    "MAX_SPEED = 300\n",
    "DEFAULT_COLOR = \"\\033[1;34m\""
   ]
  }
 ],
 "metadata": {
  "kernelspec": {
   "display_name": ".venv",
   "language": "python",
   "name": "python3"
  },
  "language_info": {
   "codemirror_mode": {
    "name": "ipython",
    "version": 3
   },
   "file_extension": ".py",
   "mimetype": "text/x-python",
   "name": "python",
   "nbconvert_exporter": "python",
   "pygments_lexer": "ipython3",
   "version": "3.12.11"
  }
 },
 "nbformat": 4,
 "nbformat_minor": 5
}
